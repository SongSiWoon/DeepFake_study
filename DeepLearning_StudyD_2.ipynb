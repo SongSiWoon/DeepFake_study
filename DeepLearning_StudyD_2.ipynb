{
  "nbformat": 4,
  "nbformat_minor": 0,
  "metadata": {
    "colab": {
      "name": "DeepLearning_StudyD-2.ipynb",
      "private_outputs": true,
      "provenance": [],
      "collapsed_sections": [],
      "authorship_tag": "ABX9TyPf+8EhCWaM6U2zcYBY/foV",
      "include_colab_link": true
    },
    "kernelspec": {
      "name": "python3",
      "display_name": "Python 3"
    },
    "language_info": {
      "name": "python"
    }
  },
  "cells": [
    {
      "cell_type": "markdown",
      "metadata": {
        "id": "view-in-github",
        "colab_type": "text"
      },
      "source": [
        "<a href=\"https://colab.research.google.com/github/SongSiWoon/DeepFake_study/blob/main/DeepLearning_StudyD_2.ipynb\" target=\"_parent\"><img src=\"https://colab.research.google.com/assets/colab-badge.svg\" alt=\"Open In Colab\"/></a>"
      ]
    },
    {
      "cell_type": "markdown",
      "metadata": {
        "id": "s9EwTRkOZ5Ky"
      },
      "source": [
        "##**선형회귀**"
      ]
    },
    {
      "cell_type": "code",
      "metadata": {
        "id": "Y-4jo9yKJkIf"
      },
      "source": [
        "x = [0,1,2,3,4,5,6]\n",
        "y = [1,2,3,4,5,6,7]\n",
        "x,y"
      ],
      "execution_count": null,
      "outputs": []
    },
    {
      "cell_type": "code",
      "metadata": {
        "id": "Cqvry37WXF3q"
      },
      "source": [
        "import numpy as np\n",
        "import matplotlib.pyplot as plt"
      ],
      "execution_count": null,
      "outputs": []
    },
    {
      "cell_type": "code",
      "metadata": {
        "id": "Vr1CpTl2XSNi"
      },
      "source": [
        "def Show(xs,ys):\n",
        "    plt.figure(figsize=(8,6))\n",
        "    plt.scatter(xs,ys)\n",
        "    plt.plot(xs,ys)\n",
        "    plt.xlim(min(xs),max(xs))\n",
        "    plt.ylim(min(ys),max(ys))\n",
        "    plt.show()\n",
        "Show(x,y)"
      ],
      "execution_count": null,
      "outputs": []
    },
    {
      "cell_type": "code",
      "metadata": {
        "id": "68UnlFjqaij6"
      },
      "source": [
        "import numpy as np\n",
        "import matplotlib.pyplot as plt\n",
        "data = list(range(1,10))\n",
        "data"
      ],
      "execution_count": null,
      "outputs": []
    },
    {
      "cell_type": "code",
      "metadata": {
        "id": "TLrqXE16b_Ee"
      },
      "source": [
        "x = np.array(data)\n",
        "y = x+1\n",
        "yp = 2*x+1\n",
        "x, y, yp"
      ],
      "execution_count": null,
      "outputs": []
    },
    {
      "cell_type": "code",
      "metadata": {
        "id": "wsRiqM2Fb8-N"
      },
      "source": [
        "def MeanSquareError(y,yp):\n",
        "    return sum((y-yp)**2/len(y))\n",
        "MeanSquareError(y,yp)"
      ],
      "execution_count": null,
      "outputs": []
    },
    {
      "cell_type": "code",
      "metadata": {
        "id": "99MVXDNDcl6J"
      },
      "source": [
        "el = [] #학습 단계에서 오차를 기록하는 컬렉션\n",
        "ws = [] #학습 단계에서 예측한 가중치 컬렉션\n",
        "\n",
        "for w in range(-100,100):\n",
        "    yp = (w+0.1)*x + 1\n",
        "    m = MeanSquareError(y,yp)\n",
        "    el.append(m)\n",
        "    ws.append(w*0.1)\n",
        "mse = np.array(el) #mse = meansquareerror\n",
        "warr = np.array(ws)\n",
        "Show(warr,mse)"
      ],
      "execution_count": null,
      "outputs": []
    },
    {
      "cell_type": "code",
      "metadata": {
        "id": "ZbNPr1xQesAZ"
      },
      "source": [
        "import numpy as np\n",
        "import matplotlib.pyplot as plt\n"
      ],
      "execution_count": null,
      "outputs": []
    },
    {
      "cell_type": "code",
      "metadata": {
        "id": "lGb2X9V5WWWl"
      },
      "source": [
        "xvalues = np.random.rand(200)\n",
        "yvalues = 20*xvalues -5\n",
        "xvalues, yvalues"
      ],
      "execution_count": null,
      "outputs": []
    },
    {
      "cell_type": "code",
      "metadata": {
        "id": "ZlAqnfocWhMz"
      },
      "source": [
        "def Prediction(pred, ys):\n",
        "    plt.figure(figsize=(8,6))\n",
        "    plt.scatter(xvalues,ys)\n",
        "    plt.scatter(xvalues,pred)\n",
        "    plt.show()"
      ],
      "execution_count": null,
      "outputs": []
    },
    {
      "cell_type": "code",
      "metadata": {
        "id": "WmSTIOCbYCTE"
      },
      "source": [
        "w = np.random.uniform(-1,1)\n",
        "b= np.random.uniform(-1,1)\n",
        "w, b"
      ],
      "execution_count": null,
      "outputs": []
    },
    {
      "cell_type": "code",
      "metadata": {
        "id": "9ObR5QhxWyS4"
      },
      "source": [
        "lr = 0.5\n",
        "for epoch in range(100):\n",
        "    yp = w*xvalues + b\n",
        "    error = np.abs(yp-yvalues).mean()\n",
        "    if error < 0.001:\n",
        "        break\n",
        "    wq = lr * ((yp-yvalues)*xvalues).mean()\n",
        "    bq = lr * (yp-yvalues).mean()\n",
        "    w = w - wq\n",
        "    b = b - bq\n",
        "\n",
        "    if epoch % 10 ==0:\n",
        "        yp = w*xvalues + b\n",
        "        Prediction(yp,yvalues)"
      ],
      "execution_count": null,
      "outputs": []
    },
    {
      "cell_type": "code",
      "metadata": {
        "id": "ild5M-LaYwj9"
      },
      "source": [
        "from sklearn import svm\n",
        "in_datas =[[0,0],[0,1],[1,0],[1,1]]\n",
        "out_labs = [0,1,1,1]\n",
        "examples = [[0,1],[1,0]]\n",
        "clf = svm.SVC()\n",
        "clf.fit(in_datas, out_labs) # 퍼셉트론 구하기\n",
        "results = clf.predict(examples) #결과예측\n",
        "print(results)"
      ],
      "execution_count": null,
      "outputs": []
    },
    {
      "cell_type": "code",
      "metadata": {
        "id": "IYi23QOCd_pl"
      },
      "source": [
        ""
      ],
      "execution_count": null,
      "outputs": []
    },
    {
      "cell_type": "code",
      "metadata": {
        "id": "lNh0Ep_1ZH6g"
      },
      "source": [
        ""
      ],
      "execution_count": null,
      "outputs": []
    }
  ]
}