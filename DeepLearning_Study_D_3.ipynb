{
  "nbformat": 4,
  "nbformat_minor": 0,
  "metadata": {
    "colab": {
      "name": "DeepLearning_Study D-3.ipynb",
      "provenance": [],
      "collapsed_sections": [],
      "mount_file_id": "13BdqkjuM_zhFkd-qTYyr-Kg3rOrpYJ56",
      "authorship_tag": "ABX9TyNX+yKhUVHBsEPdXdJfQEDW",
      "include_colab_link": true
    },
    "kernelspec": {
      "name": "python3",
      "display_name": "Python 3"
    },
    "language_info": {
      "name": "python"
    }
  },
  "cells": [
    {
      "cell_type": "markdown",
      "metadata": {
        "id": "view-in-github",
        "colab_type": "text"
      },
      "source": [
        "<a href=\"https://colab.research.google.com/github/SongSiWoon/DeepFake_study/blob/main/DeepLearning_Study_D_3.ipynb\" target=\"_parent\"><img src=\"https://colab.research.google.com/assets/colab-badge.svg\" alt=\"Open In Colab\"/></a>"
      ]
    },
    {
      "cell_type": "markdown",
      "metadata": {
        "id": "qAaamhPmUFbk"
      },
      "source": [
        "##**직접 작성한 손글씨 데이터 학습하기**"
      ]
    },
    {
      "cell_type": "code",
      "metadata": {
        "id": "NbVUVLMVUKyc"
      },
      "source": [
        "import pandas as pd\n",
        "from sklearn import svm, metrics"
      ],
      "execution_count": 60,
      "outputs": []
    },
    {
      "cell_type": "code",
      "metadata": {
        "id": "-xw8_23oUtfC"
      },
      "source": [
        "def read_data(fname):\n",
        "    mr = pd.read_csv(fname,header=None)\n",
        "    label=[] #y값(종속변수) 컬렉션\n",
        "    data=[] #x값(독립변수) 컬렉션\n",
        "    for ri, row in mr.iterrows():\n",
        "        label.append(row.loc[400]) #401번째에 어떠한 숫자를 쓴 것인지를 얻어온다\n",
        "        other_data=[]\n",
        "        for v in row.loc[0:399]: #손글씨 쓴 내용을 얻어온다(20x20픽셀, 총 400쉘)\n",
        "            other_data.append(v)\n",
        "        data.append(other_data) #손글씨 데이터를 독립변수 컬렌션에 추가한다.\n",
        "    return label,data #호출한 곳에 종속변수와 독립변수 컬렉션을 반환"
      ],
      "execution_count": 61,
      "outputs": []
    },
    {
      "cell_type": "code",
      "metadata": {
        "colab": {
          "base_uri": "https://localhost:8080/"
        },
        "id": "etmE-WDFXx4T",
        "outputId": "471dfb43-8044-4a2b-a1bf-64d41704092f"
      },
      "source": [
        "#학습 데이터 경로명\n",
        "bfiles=[]\n",
        "for i in range(1,8):\n",
        "    bfiles.append(\"/content/drive/MyDrive/Study_DeapFake/손글씨 자료/Handwriting\"+str(i)+\".csv\")\n",
        "bfiles"
      ],
      "execution_count": 62,
      "outputs": [
        {
          "output_type": "execute_result",
          "data": {
            "text/plain": [
              "['/content/drive/MyDrive/Study_DeapFake/손글씨 자료/Handwriting1.csv',\n",
              " '/content/drive/MyDrive/Study_DeapFake/손글씨 자료/Handwriting2.csv',\n",
              " '/content/drive/MyDrive/Study_DeapFake/손글씨 자료/Handwriting3.csv',\n",
              " '/content/drive/MyDrive/Study_DeapFake/손글씨 자료/Handwriting4.csv',\n",
              " '/content/drive/MyDrive/Study_DeapFake/손글씨 자료/Handwriting5.csv',\n",
              " '/content/drive/MyDrive/Study_DeapFake/손글씨 자료/Handwriting6.csv',\n",
              " '/content/drive/MyDrive/Study_DeapFake/손글씨 자료/Handwriting7.csv']"
            ]
          },
          "metadata": {
            "tags": []
          },
          "execution_count": 62
        }
      ]
    },
    {
      "cell_type": "code",
      "metadata": {
        "colab": {
          "base_uri": "https://localhost:8080/"
        },
        "id": "_Xw0OSO2YgNi",
        "outputId": "94b12f5d-77ba-457f-ee6a-35db7ae83d1b"
      },
      "source": [
        "#테스트 데이터 경로명\n",
        "tfiles=[]\n",
        "for i in range(1,10):\n",
        "    tfiles.append(\"/content/drive/MyDrive/Study_DeapFake/손글씨 자료/\"+str(i)+\".csv\")\n",
        "tfiles"
      ],
      "execution_count": 63,
      "outputs": [
        {
          "output_type": "execute_result",
          "data": {
            "text/plain": [
              "['/content/drive/MyDrive/Study_DeapFake/손글씨 자료/1.csv',\n",
              " '/content/drive/MyDrive/Study_DeapFake/손글씨 자료/2.csv',\n",
              " '/content/drive/MyDrive/Study_DeapFake/손글씨 자료/3.csv',\n",
              " '/content/drive/MyDrive/Study_DeapFake/손글씨 자료/4.csv',\n",
              " '/content/drive/MyDrive/Study_DeapFake/손글씨 자료/5.csv',\n",
              " '/content/drive/MyDrive/Study_DeapFake/손글씨 자료/6.csv',\n",
              " '/content/drive/MyDrive/Study_DeapFake/손글씨 자료/7.csv',\n",
              " '/content/drive/MyDrive/Study_DeapFake/손글씨 자료/8.csv',\n",
              " '/content/drive/MyDrive/Study_DeapFake/손글씨 자료/9.csv']"
            ]
          },
          "metadata": {
            "tags": []
          },
          "execution_count": 63
        }
      ]
    },
    {
      "cell_type": "code",
      "metadata": {
        "id": "7-ke0T34YzMZ"
      },
      "source": [
        "#머신러닝 모델 생성\n",
        "clf = svm.SVC()"
      ],
      "execution_count": 64,
      "outputs": []
    },
    {
      "cell_type": "code",
      "metadata": {
        "colab": {
          "base_uri": "https://localhost:8080/"
        },
        "id": "yGhOB9B5Ycmc",
        "outputId": "39c34b11-518f-4694-d8be-905f36c590b7"
      },
      "source": [
        "for bfile in bfiles:\n",
        "    label,data = read_data(bfile) #학습 데이터를 로딩\n",
        "    #학습\n",
        "    clf.fit(data,label)\n",
        "    #학습한 것을 가지고 인식을 얼마나 잘하는지 테스트\n",
        "    print(\"======\",bfile)\n",
        "    for tfile in tfiles: #숫자별로 인식 정도를 테스트\n",
        "        tl,td = read_data(tfile) #테스트에 사용할 데이터를 로딩\n",
        "        #예측하여라(인식 정도를 확인)\n",
        "        results = clf.predict(td) #독립변수 컬렉션을 전달하면 예측값 컬렉션 반환\n",
        "        #예측을 얼만큼 잘 했는지 점수를 부여\n",
        "        score = metrics.accuracy_score(results,tl)\n",
        "        print(\"{0}:{1}\".format(tl[0],score))"
      ],
      "execution_count": 65,
      "outputs": [
        {
          "output_type": "stream",
          "text": [
            "====== /content/drive/MyDrive/Study_DeapFake/손글씨 자료/Handwriting1.csv\n",
            "1:1.0\n",
            "2:0.95\n",
            "3:0.7\n",
            "4:0.95\n",
            "5:0.8\n",
            "6:0.8\n",
            "7:0.8\n",
            "8:0.85\n",
            "9:0.85\n",
            "====== /content/drive/MyDrive/Study_DeapFake/손글씨 자료/Handwriting2.csv\n",
            "1:1.0\n",
            "2:1.0\n",
            "3:0.75\n",
            "4:1.0\n",
            "5:0.9\n",
            "6:0.95\n",
            "7:0.95\n",
            "8:0.9\n",
            "9:0.9\n",
            "====== /content/drive/MyDrive/Study_DeapFake/손글씨 자료/Handwriting3.csv\n",
            "1:1.0\n",
            "2:1.0\n",
            "3:0.75\n",
            "4:1.0\n",
            "5:0.85\n",
            "6:0.9\n",
            "7:0.95\n",
            "8:0.9\n",
            "9:1.0\n",
            "====== /content/drive/MyDrive/Study_DeapFake/손글씨 자료/Handwriting4.csv\n",
            "1:1.0\n",
            "2:1.0\n",
            "3:0.75\n",
            "4:1.0\n",
            "5:0.85\n",
            "6:0.9\n",
            "7:0.95\n",
            "8:0.9\n",
            "9:1.0\n",
            "====== /content/drive/MyDrive/Study_DeapFake/손글씨 자료/Handwriting5.csv\n",
            "1:1.0\n",
            "2:1.0\n",
            "3:0.75\n",
            "4:1.0\n",
            "5:0.85\n",
            "6:0.9\n",
            "7:0.95\n",
            "8:0.9\n",
            "9:1.0\n",
            "====== /content/drive/MyDrive/Study_DeapFake/손글씨 자료/Handwriting6.csv\n",
            "1:1.0\n",
            "2:1.0\n",
            "3:0.75\n",
            "4:1.0\n",
            "5:0.95\n",
            "6:0.9\n",
            "7:0.9\n",
            "8:0.9\n",
            "9:1.0\n",
            "====== /content/drive/MyDrive/Study_DeapFake/손글씨 자료/Handwriting7.csv\n",
            "1:1.0\n",
            "2:1.0\n",
            "3:0.75\n",
            "4:1.0\n",
            "5:0.9\n",
            "6:0.9\n",
            "7:0.9\n",
            "8:0.9\n",
            "9:1.0\n"
          ],
          "name": "stdout"
        }
      ]
    },
    {
      "cell_type": "markdown",
      "metadata": {
        "id": "X1tI0FDgbfRK"
      },
      "source": [
        "##**MNIST파일 구조 분석**"
      ]
    },
    {
      "cell_type": "code",
      "metadata": {
        "id": "S8B4HM9tfypc"
      },
      "source": [
        "import numpy as np\n",
        "import keras\n",
        "from tensorflow import keras\n",
        "from keras.utils import np_utils\n",
        "from sklearn.linear_model import LinearRegression"
      ],
      "execution_count": 66,
      "outputs": []
    },
    {
      "cell_type": "code",
      "metadata": {
        "colab": {
          "base_uri": "https://localhost:8080/"
        },
        "id": "V8kiOl_ghWoN",
        "outputId": "d64df960-7f21-499e-bc4c-1adddef8d1ef"
      },
      "source": [
        "(x_train,y_train),(x_test,y_test) = keras.datasets.mnist.load_data()\n",
        "x_train.shape,y_train.shape"
      ],
      "execution_count": 67,
      "outputs": [
        {
          "output_type": "execute_result",
          "data": {
            "text/plain": [
              "((60000, 28, 28), (60000,))"
            ]
          },
          "metadata": {
            "tags": []
          },
          "execution_count": 67
        }
      ]
    },
    {
      "cell_type": "code",
      "metadata": {
        "colab": {
          "base_uri": "https://localhost:8080/"
        },
        "id": "h4Y9docHh0y4",
        "outputId": "54e2772e-4bb5-4a40-e1ec-660b922f3e1b"
      },
      "source": [
        "y_train"
      ],
      "execution_count": 68,
      "outputs": [
        {
          "output_type": "execute_result",
          "data": {
            "text/plain": [
              "array([5, 0, 4, ..., 5, 6, 8], dtype=uint8)"
            ]
          },
          "metadata": {
            "tags": []
          },
          "execution_count": 68
        }
      ]
    },
    {
      "cell_type": "code",
      "metadata": {
        "colab": {
          "base_uri": "https://localhost:8080/"
        },
        "id": "dR2TKKgEiCXG",
        "outputId": "13ea3ac1-a5bb-4490-c3ea-8f8cb33bb293"
      },
      "source": [
        "for r in range(28):\n",
        "    for c in range(28):\n",
        "        if(x_train[59999][r][c]!=0):\n",
        "            print(\"ㅁ\",end=\" \")\n",
        "        else:\n",
        "            print(\"  \",end=' ')\n",
        "    print()"
      ],
      "execution_count": 69,
      "outputs": [
        {
          "output_type": "stream",
          "text": [
            "                                                                                    \n",
            "                                                                                    \n",
            "                                                                                    \n",
            "                                                                                    \n",
            "                                                                                    \n",
            "                                                                                    \n",
            "                                                ㅁ ㅁ ㅁ ㅁ                         \n",
            "                                       ㅁ ㅁ ㅁ ㅁ ㅁ ㅁ ㅁ ㅁ                      \n",
            "                                    ㅁ ㅁ ㅁ ㅁ ㅁ ㅁ ㅁ ㅁ ㅁ ㅁ    ㅁ ㅁ ㅁ       \n",
            "                                 ㅁ ㅁ ㅁ ㅁ ㅁ ㅁ       ㅁ ㅁ ㅁ ㅁ ㅁ ㅁ ㅁ       \n",
            "                              ㅁ ㅁ ㅁ ㅁ ㅁ             ㅁ ㅁ ㅁ ㅁ ㅁ ㅁ          \n",
            "                              ㅁ ㅁ ㅁ                   ㅁ ㅁ ㅁ ㅁ ㅁ             \n",
            "                              ㅁ ㅁ ㅁ          ㅁ ㅁ ㅁ ㅁ ㅁ ㅁ ㅁ                \n",
            "                              ㅁ ㅁ       ㅁ ㅁ ㅁ ㅁ ㅁ ㅁ                         \n",
            "                              ㅁ ㅁ ㅁ ㅁ ㅁ ㅁ ㅁ ㅁ ㅁ                            \n",
            "                              ㅁ ㅁ ㅁ ㅁ ㅁ ㅁ ㅁ                                  \n",
            "                              ㅁ ㅁ ㅁ ㅁ ㅁ                                        \n",
            "                        ㅁ ㅁ ㅁ ㅁ ㅁ ㅁ                                           \n",
            "                        ㅁ ㅁ ㅁ ㅁ ㅁ                                              \n",
            "                     ㅁ ㅁ ㅁ ㅁ ㅁ ㅁ                                              \n",
            "                  ㅁ ㅁ ㅁ ㅁ ㅁ ㅁ ㅁ                                              \n",
            "                  ㅁ ㅁ ㅁ    ㅁ ㅁ ㅁ                                              \n",
            "                  ㅁ ㅁ ㅁ    ㅁ ㅁ ㅁ                                              \n",
            "                  ㅁ ㅁ ㅁ ㅁ ㅁ ㅁ ㅁ                                              \n",
            "                     ㅁ ㅁ ㅁ ㅁ                                                    \n",
            "                                                                                    \n",
            "                                                                                    \n",
            "                                                                                    \n"
          ],
          "name": "stdout"
        }
      ]
    },
    {
      "cell_type": "code",
      "metadata": {
        "colab": {
          "base_uri": "https://localhost:8080/"
        },
        "id": "no-ir11miDQ2",
        "outputId": "d0b632f6-8a07-40a1-d451-0243956f38d9"
      },
      "source": [
        "x_test.shape, y_test.shape"
      ],
      "execution_count": 70,
      "outputs": [
        {
          "output_type": "execute_result",
          "data": {
            "text/plain": [
              "((10000, 28, 28), (10000,))"
            ]
          },
          "metadata": {
            "tags": []
          },
          "execution_count": 70
        }
      ]
    },
    {
      "cell_type": "code",
      "metadata": {
        "colab": {
          "base_uri": "https://localhost:8080/"
        },
        "id": "3TIANILei7oc",
        "outputId": "fdb21332-d81d-4a05-aeb7-8388d24b1499"
      },
      "source": [
        "y_test"
      ],
      "execution_count": 71,
      "outputs": [
        {
          "output_type": "execute_result",
          "data": {
            "text/plain": [
              "array([7, 2, 1, ..., 4, 5, 6], dtype=uint8)"
            ]
          },
          "metadata": {
            "tags": []
          },
          "execution_count": 71
        }
      ]
    },
    {
      "cell_type": "code",
      "metadata": {
        "colab": {
          "base_uri": "https://localhost:8080/"
        },
        "id": "M4w7YvnXi5Wu",
        "outputId": "d2bbf06d-195c-475c-fe27-93a6952c3839"
      },
      "source": [
        "for r in range(28):\n",
        "    for c in range(28):\n",
        "        if(x_test[0][r][c]!=0):\n",
        "            print(\"ㅁ\",end=\" \")\n",
        "        else:\n",
        "            print(\"  \",end=' ')\n",
        "    print()"
      ],
      "execution_count": 72,
      "outputs": [
        {
          "output_type": "stream",
          "text": [
            "                                                                                    \n",
            "                                                                                    \n",
            "                                                                                    \n",
            "                                                                                    \n",
            "                                                                                    \n",
            "                                                                                    \n",
            "                                                                                    \n",
            "                  ㅁ ㅁ ㅁ ㅁ ㅁ ㅁ                                                 \n",
            "                  ㅁ ㅁ ㅁ ㅁ ㅁ ㅁ ㅁ ㅁ ㅁ ㅁ ㅁ ㅁ ㅁ ㅁ ㅁ ㅁ                   \n",
            "                  ㅁ ㅁ ㅁ ㅁ ㅁ ㅁ ㅁ ㅁ ㅁ ㅁ ㅁ ㅁ ㅁ ㅁ ㅁ ㅁ                   \n",
            "                                 ㅁ ㅁ ㅁ ㅁ ㅁ ㅁ ㅁ ㅁ ㅁ ㅁ ㅁ                   \n",
            "                                                      ㅁ ㅁ ㅁ ㅁ                   \n",
            "                                                   ㅁ ㅁ ㅁ ㅁ                      \n",
            "                                                   ㅁ ㅁ ㅁ ㅁ                      \n",
            "                                                ㅁ ㅁ ㅁ ㅁ                         \n",
            "                                                ㅁ ㅁ ㅁ ㅁ                         \n",
            "                                             ㅁ ㅁ ㅁ ㅁ                            \n",
            "                                             ㅁ ㅁ ㅁ                               \n",
            "                                          ㅁ ㅁ ㅁ ㅁ                               \n",
            "                                       ㅁ ㅁ ㅁ ㅁ                                  \n",
            "                                    ㅁ ㅁ ㅁ ㅁ ㅁ                                  \n",
            "                                    ㅁ ㅁ ㅁ ㅁ                                     \n",
            "                                 ㅁ ㅁ ㅁ ㅁ ㅁ                                     \n",
            "                                 ㅁ ㅁ ㅁ ㅁ                                        \n",
            "                              ㅁ ㅁ ㅁ ㅁ ㅁ                                        \n",
            "                              ㅁ ㅁ ㅁ ㅁ ㅁ                                        \n",
            "                              ㅁ ㅁ ㅁ ㅁ                                           \n",
            "                                                                                    \n"
          ],
          "name": "stdout"
        }
      ]
    },
    {
      "cell_type": "markdown",
      "metadata": {
        "id": "RGI4FWaJjVU7"
      },
      "source": [
        "##**MNIST 데이터로 손글씨 인식 - 머신러닝**"
      ]
    },
    {
      "cell_type": "code",
      "metadata": {
        "colab": {
          "base_uri": "https://localhost:8080/"
        },
        "id": "WntY2gSPkLfg",
        "outputId": "d4f64bdc-3279-4543-e39e-011c5bd739ed"
      },
      "source": [
        "#내가 사용할 모델에 맞게 데이터의 구조와 값을 수정\n",
        "x_train2 = x_train.reshape(-1,28*28) #2차원 형태의 독립변수 구조를 1차원 형태로 변형\n",
        "x_train2.shape"
      ],
      "execution_count": 73,
      "outputs": [
        {
          "output_type": "execute_result",
          "data": {
            "text/plain": [
              "(60000, 784)"
            ]
          },
          "metadata": {
            "tags": []
          },
          "execution_count": 73
        }
      ]
    },
    {
      "cell_type": "code",
      "metadata": {
        "id": "ujRSr8WDksXU"
      },
      "source": [
        "x_test2=x_test.reshape(-1,28*28)"
      ],
      "execution_count": 74,
      "outputs": []
    },
    {
      "cell_type": "code",
      "metadata": {
        "id": "sFPISBUjk5ZI"
      },
      "source": [
        "y_train2 = np_utils.to_categorical(y_train)\n"
      ],
      "execution_count": 75,
      "outputs": []
    },
    {
      "cell_type": "code",
      "metadata": {
        "id": "edQofoVtllVO"
      },
      "source": [
        "y_test2 = np_utils.to_categorical(y_test)"
      ],
      "execution_count": 76,
      "outputs": []
    },
    {
      "cell_type": "code",
      "metadata": {
        "colab": {
          "base_uri": "https://localhost:8080/"
        },
        "id": "fNSOEg5wlyWf",
        "outputId": "f392b81b-1970-4ab9-e256-c40153812bdf"
      },
      "source": [
        "mv = min(x_train2[0])\n",
        "Mv = max(x_train2[0])\n",
        "mv, Mv"
      ],
      "execution_count": 77,
      "outputs": [
        {
          "output_type": "execute_result",
          "data": {
            "text/plain": [
              "(0, 255)"
            ]
          },
          "metadata": {
            "tags": []
          },
          "execution_count": 77
        }
      ]
    },
    {
      "cell_type": "code",
      "metadata": {
        "colab": {
          "base_uri": "https://localhost:8080/"
        },
        "id": "ZNgXVdY8mSUf",
        "outputId": "0dc98bf3-bec5-4d61-f41c-3e53dd5fca85"
      },
      "source": [
        "x_train3=x_train2/255.0\n",
        "x_test3=x_test2/255.0\n",
        "mv2 = min(x_train3[0])\n",
        "Mv2 = max(x_train3[0])\n",
        "mv2,Mv2"
      ],
      "execution_count": 78,
      "outputs": [
        {
          "output_type": "execute_result",
          "data": {
            "text/plain": [
              "(0.0, 1.0)"
            ]
          },
          "metadata": {
            "tags": []
          },
          "execution_count": 78
        }
      ]
    },
    {
      "cell_type": "code",
      "metadata": {
        "id": "X8gqMju0jUP9"
      },
      "source": [
        "#선형 회귀 모델 생성\n",
        "lr = LinearRegression()"
      ],
      "execution_count": 79,
      "outputs": []
    },
    {
      "cell_type": "code",
      "metadata": {
        "colab": {
          "base_uri": "https://localhost:8080/"
        },
        "id": "NA-T28Wmjx5e",
        "outputId": "c83a89e6-ef9a-4558-aab6-efaaf749adea"
      },
      "source": [
        "#학습\n",
        "lr.fit(x_train3,y_train2)"
      ],
      "execution_count": 80,
      "outputs": [
        {
          "output_type": "execute_result",
          "data": {
            "text/plain": [
              "LinearRegression(copy_X=True, fit_intercept=True, n_jobs=None, normalize=False)"
            ]
          },
          "metadata": {
            "tags": []
          },
          "execution_count": 80
        }
      ]
    },
    {
      "cell_type": "code",
      "metadata": {
        "id": "q81wDAELmykN"
      },
      "source": [
        "#예측\n",
        "result = lr.predict(x_test3)"
      ],
      "execution_count": 81,
      "outputs": []
    },
    {
      "cell_type": "code",
      "metadata": {
        "colab": {
          "base_uri": "https://localhost:8080/"
        },
        "id": "wpYZ5c3NnIsI",
        "outputId": "ffe499a0-ea75-4594-a95c-1c8fbb443df0"
      },
      "source": [
        "result[0], y_test[0], y_test2[0]"
      ],
      "execution_count": 82,
      "outputs": [
        {
          "output_type": "execute_result",
          "data": {
            "text/plain": [
              "(array([ 0.02770996,  0.00618298,  0.10690041,  0.10259679, -0.11571961,\n",
              "        -0.01106006, -0.01830345,  0.90581385, -0.08378306,  0.08020427]),\n",
              " 7,\n",
              " array([0., 0., 0., 0., 0., 0., 0., 1., 0., 0.], dtype=float32))"
            ]
          },
          "metadata": {
            "tags": []
          },
          "execution_count": 82
        }
      ]
    },
    {
      "cell_type": "code",
      "metadata": {
        "colab": {
          "base_uri": "https://localhost:8080/"
        },
        "id": "wh-f3ZCSnj_v",
        "outputId": "037de941-1103-4f51-a870-8cf781b11abe"
      },
      "source": [
        "res=[]\n",
        "for r in range(len(result)):\n",
        "    res.append(np.argmax(result[r])) #제일 큰 값이 있는 인덱스를 얻어와서(argmax) res에 추가\n",
        "res2 = np.array(res)\n",
        "res2, y_test"
      ],
      "execution_count": 83,
      "outputs": [
        {
          "output_type": "execute_result",
          "data": {
            "text/plain": [
              "(array([7, 2, 1, ..., 4, 5, 6]), array([7, 2, 1, ..., 4, 5, 6], dtype=uint8))"
            ]
          },
          "metadata": {
            "tags": []
          },
          "execution_count": 83
        }
      ]
    },
    {
      "cell_type": "code",
      "metadata": {
        "id": "AlSJl89ruo6_",
        "colab": {
          "base_uri": "https://localhost:8080/",
          "height": 357
        },
        "outputId": "ecc4d049-8b06-4d79-cf91-6975babc2e09"
      },
      "source": [
        "import pandas as pd\n",
        "from sklearn.cluster import KMeans\n",
        "import matplotlib.pyplot as plt\n",
        "import seaborn as sns\n",
        "\n",
        "df = pd.DataFrame(columns=['x','y'])\n",
        "df.loc[0] = [1,4]\n",
        "df.loc[1] = [1,3]\n",
        "df.loc[2] = [2,5]\n",
        "df.loc[3] = [2,2]\n",
        "df.loc[4] = [1,12]\n",
        "df.loc[5] = [2,13]\n",
        "df.loc[6] = [3,13]\n",
        "df.loc[7] = [4,6]\n",
        "df.loc[8] = [4,8]\n",
        "df.loc[9] = [5,7]\n",
        "\n",
        "df"
      ],
      "execution_count": 84,
      "outputs": [
        {
          "output_type": "execute_result",
          "data": {
            "text/html": [
              "<div>\n",
              "<style scoped>\n",
              "    .dataframe tbody tr th:only-of-type {\n",
              "        vertical-align: middle;\n",
              "    }\n",
              "\n",
              "    .dataframe tbody tr th {\n",
              "        vertical-align: top;\n",
              "    }\n",
              "\n",
              "    .dataframe thead th {\n",
              "        text-align: right;\n",
              "    }\n",
              "</style>\n",
              "<table border=\"1\" class=\"dataframe\">\n",
              "  <thead>\n",
              "    <tr style=\"text-align: right;\">\n",
              "      <th></th>\n",
              "      <th>x</th>\n",
              "      <th>y</th>\n",
              "    </tr>\n",
              "  </thead>\n",
              "  <tbody>\n",
              "    <tr>\n",
              "      <th>0</th>\n",
              "      <td>1</td>\n",
              "      <td>4</td>\n",
              "    </tr>\n",
              "    <tr>\n",
              "      <th>1</th>\n",
              "      <td>1</td>\n",
              "      <td>3</td>\n",
              "    </tr>\n",
              "    <tr>\n",
              "      <th>2</th>\n",
              "      <td>2</td>\n",
              "      <td>5</td>\n",
              "    </tr>\n",
              "    <tr>\n",
              "      <th>3</th>\n",
              "      <td>2</td>\n",
              "      <td>2</td>\n",
              "    </tr>\n",
              "    <tr>\n",
              "      <th>4</th>\n",
              "      <td>1</td>\n",
              "      <td>12</td>\n",
              "    </tr>\n",
              "    <tr>\n",
              "      <th>5</th>\n",
              "      <td>2</td>\n",
              "      <td>13</td>\n",
              "    </tr>\n",
              "    <tr>\n",
              "      <th>6</th>\n",
              "      <td>3</td>\n",
              "      <td>13</td>\n",
              "    </tr>\n",
              "    <tr>\n",
              "      <th>7</th>\n",
              "      <td>4</td>\n",
              "      <td>6</td>\n",
              "    </tr>\n",
              "    <tr>\n",
              "      <th>8</th>\n",
              "      <td>4</td>\n",
              "      <td>8</td>\n",
              "    </tr>\n",
              "    <tr>\n",
              "      <th>9</th>\n",
              "      <td>5</td>\n",
              "      <td>7</td>\n",
              "    </tr>\n",
              "  </tbody>\n",
              "</table>\n",
              "</div>"
            ],
            "text/plain": [
              "   x   y\n",
              "0  1   4\n",
              "1  1   3\n",
              "2  2   5\n",
              "3  2   2\n",
              "4  1  12\n",
              "5  2  13\n",
              "6  3  13\n",
              "7  4   6\n",
              "8  4   8\n",
              "9  5   7"
            ]
          },
          "metadata": {
            "tags": []
          },
          "execution_count": 84
        }
      ]
    },
    {
      "cell_type": "code",
      "metadata": {
        "colab": {
          "base_uri": "https://localhost:8080/",
          "height": 438
        },
        "id": "S_gVg0hbv_26",
        "outputId": "a7430293-0d44-4747-e997-2633ae1b364a"
      },
      "source": [
        "#테스트 데이터 도면에 그리기\n",
        "sns.lmplot('x','y',data=df,fit_reg=False,scatter_kws={\"s\":20})\n",
        "plt.show()"
      ],
      "execution_count": 87,
      "outputs": [
        {
          "output_type": "stream",
          "text": [
            "/usr/local/lib/python3.7/dist-packages/seaborn/_decorators.py:43: FutureWarning: Pass the following variables as keyword args: x, y. From version 0.12, the only valid positional argument will be `data`, and passing other arguments without an explicit keyword will result in an error or misinterpretation.\n",
            "  FutureWarning\n"
          ],
          "name": "stderr"
        },
        {
          "output_type": "display_data",
          "data": {
            "image/png": "[encoded data removed]",
            "text/plain": [
              "<Figure size 360x360 with 1 Axes>"
            ]
          },
          "metadata": {
            "tags": [],
            "needs_background": "light"
          }
        }
      ]
    },
    {
      "cell_type": "code",
      "metadata": {
        "colab": {
          "base_uri": "https://localhost:8080/"
        },
        "id": "Cw1b59vJwsb5",
        "outputId": "049fc9ce-7ae7-4658-a936-9c581cc3c81e"
      },
      "source": [
        "#군집화 데이터로 정제화\n",
        "data_points = df.values\n",
        "data_points"
      ],
      "execution_count": 88,
      "outputs": [
        {
          "output_type": "execute_result",
          "data": {
            "text/plain": [
              "array([[1, 4],\n",
              "       [1, 3],\n",
              "       [2, 5],\n",
              "       [2, 2],\n",
              "       [1, 12],\n",
              "       [2, 13],\n",
              "       [3, 13],\n",
              "       [4, 6],\n",
              "       [4, 8],\n",
              "       [5, 7]], dtype=object)"
            ]
          },
          "metadata": {
            "tags": []
          },
          "execution_count": 88
        }
      ]
    },
    {
      "cell_type": "code",
      "metadata": {
        "id": "YpoQafv8wyBy"
      },
      "source": [
        "#KMeans 모델로 군집화\n",
        "md = KMeans(n_clusters=3) #n_clusters는 군집 개수\n",
        "kmeans = md.fit(data_points)"
      ],
      "execution_count": 89,
      "outputs": []
    },
    {
      "cell_type": "code",
      "metadata": {
        "colab": {
          "base_uri": "https://localhost:8080/",
          "height": 357
        },
        "id": "tMeY8n83xRvB",
        "outputId": "6e96b915-d057-4c64-d74b-e7be541b3d33"
      },
      "source": [
        "df['label'] = kmeans.labels_\n",
        "df"
      ],
      "execution_count": 91,
      "outputs": [
        {
          "output_type": "execute_result",
          "data": {
            "text/html": [
              "<div>\n",
              "<style scoped>\n",
              "    .dataframe tbody tr th:only-of-type {\n",
              "        vertical-align: middle;\n",
              "    }\n",
              "\n",
              "    .dataframe tbody tr th {\n",
              "        vertical-align: top;\n",
              "    }\n",
              "\n",
              "    .dataframe thead th {\n",
              "        text-align: right;\n",
              "    }\n",
              "</style>\n",
              "<table border=\"1\" class=\"dataframe\">\n",
              "  <thead>\n",
              "    <tr style=\"text-align: right;\">\n",
              "      <th></th>\n",
              "      <th>x</th>\n",
              "      <th>y</th>\n",
              "      <th>label</th>\n",
              "    </tr>\n",
              "  </thead>\n",
              "  <tbody>\n",
              "    <tr>\n",
              "      <th>0</th>\n",
              "      <td>1</td>\n",
              "      <td>4</td>\n",
              "      <td>0</td>\n",
              "    </tr>\n",
              "    <tr>\n",
              "      <th>1</th>\n",
              "      <td>1</td>\n",
              "      <td>3</td>\n",
              "      <td>0</td>\n",
              "    </tr>\n",
              "    <tr>\n",
              "      <th>2</th>\n",
              "      <td>2</td>\n",
              "      <td>5</td>\n",
              "      <td>0</td>\n",
              "    </tr>\n",
              "    <tr>\n",
              "      <th>3</th>\n",
              "      <td>2</td>\n",
              "      <td>2</td>\n",
              "      <td>0</td>\n",
              "    </tr>\n",
              "    <tr>\n",
              "      <th>4</th>\n",
              "      <td>1</td>\n",
              "      <td>12</td>\n",
              "      <td>2</td>\n",
              "    </tr>\n",
              "    <tr>\n",
              "      <th>5</th>\n",
              "      <td>2</td>\n",
              "      <td>13</td>\n",
              "      <td>2</td>\n",
              "    </tr>\n",
              "    <tr>\n",
              "      <th>6</th>\n",
              "      <td>3</td>\n",
              "      <td>13</td>\n",
              "      <td>2</td>\n",
              "    </tr>\n",
              "    <tr>\n",
              "      <th>7</th>\n",
              "      <td>4</td>\n",
              "      <td>6</td>\n",
              "      <td>1</td>\n",
              "    </tr>\n",
              "    <tr>\n",
              "      <th>8</th>\n",
              "      <td>4</td>\n",
              "      <td>8</td>\n",
              "      <td>1</td>\n",
              "    </tr>\n",
              "    <tr>\n",
              "      <th>9</th>\n",
              "      <td>5</td>\n",
              "      <td>7</td>\n",
              "      <td>1</td>\n",
              "    </tr>\n",
              "  </tbody>\n",
              "</table>\n",
              "</div>"
            ],
            "text/plain": [
              "   x   y  label\n",
              "0  1   4      0\n",
              "1  1   3      0\n",
              "2  2   5      0\n",
              "3  2   2      0\n",
              "4  1  12      2\n",
              "5  2  13      2\n",
              "6  3  13      2\n",
              "7  4   6      1\n",
              "8  4   8      1\n",
              "9  5   7      1"
            ]
          },
          "metadata": {
            "tags": []
          },
          "execution_count": 91
        }
      ]
    },
    {
      "cell_type": "code",
      "metadata": {
        "colab": {
          "base_uri": "https://localhost:8080/",
          "height": 456
        },
        "id": "ffF1JK5dxgSO",
        "outputId": "59994056-011a-4beb-8ded-f050d9f07fd2"
      },
      "source": [
        "#군집 도식화\n",
        "sns.lmplot('x','y',data=df,fit_reg=False,scatter_kws={\"s\":20},hue='label')"
      ],
      "execution_count": 92,
      "outputs": [
        {
          "output_type": "stream",
          "text": [
            "/usr/local/lib/python3.7/dist-packages/seaborn/_decorators.py:43: FutureWarning: Pass the following variables as keyword args: x, y. From version 0.12, the only valid positional argument will be `data`, and passing other arguments without an explicit keyword will result in an error or misinterpretation.\n",
            "  FutureWarning\n"
          ],
          "name": "stderr"
        },
        {
          "output_type": "execute_result",
          "data": {
            "text/plain": [
              "<seaborn.axisgrid.FacetGrid at 0x7fc7bf27e350>"
            ]
          },
          "metadata": {
            "tags": []
          },
          "execution_count": 92
        },
        {
          "output_type": "display_data",
          "data": {
            "image/png": "[encoded data removed]",
            "text/plain": [
              "<Figure size 402.375x360 with 1 Axes>"
            ]
          },
          "metadata": {
            "tags": [],
            "needs_background": "light"
          }
        }
      ]
    },
    {
      "cell_type": "markdown",
      "metadata": {
        "id": "VHW31TyDzeQn"
      },
      "source": [
        "##**딥러닝 - 선형회귀를 이용한 손글씨 인식**"
      ]
    },
    {
      "cell_type": "code",
      "metadata": {
        "colab": {
          "base_uri": "https://localhost:8080/"
        },
        "id": "IweD703gzeky",
        "outputId": "0690b782-7157-4c02-f2c7-ac5df382333c"
      },
      "source": [
        "#모델 생성\n",
        "from keras import layers,models\n",
        "model = models.Sequential()"
      ],
      "execution_count": 94,
      "outputs": [
        {
          "output_type": "execute_result",
          "data": {
            "text/plain": [
              "<keras.engine.sequential.Sequential at 0x7fc7bd4d7410>"
            ]
          },
          "metadata": {
            "tags": []
          },
          "execution_count": 94
        }
      ]
    },
    {
      "cell_type": "code",
      "metadata": {
        "id": "wWSeZ-MxNWe8"
      },
      "source": [
        "model.add(layers.Dense(100,activation='relu',input_shape=(784,))) #입력 계층: 784->100\n",
        "model.add(layers.Dense(28,activation='relu')) #은닉 계층: 100->20\n",
        "model.add(layers.Dense(10,activation='softmax')) #출력 계층: 28->10"
      ],
      "execution_count": 96,
      "outputs": []
    },
    {
      "cell_type": "code",
      "metadata": {
        "id": "Pt_ngXzTODe_"
      },
      "source": [
        "#모델을 동작 가능한 상태로 만들기 - 컴파일\n",
        "model.compile(loss='categorical_crossentropy', optimizer='adam',metrics=['accuracy'])"
      ],
      "execution_count": 97,
      "outputs": []
    },
    {
      "cell_type": "code",
      "metadata": {
        "colab": {
          "base_uri": "https://localhost:8080/"
        },
        "id": "xYD3FGzXQ2Lt",
        "outputId": "202305ad-2e7c-40ba-bda0-aa5dc79744f6"
      },
      "source": [
        "#학습\n",
        "model.fit(x_train3,y_train2,epochs=15)"
      ],
      "execution_count": 99,
      "outputs": [
        {
          "output_type": "stream",
          "text": [
            "Epoch 1/15\n",
            "1875/1875 [==============================] - 4s 2ms/step - loss: 0.1629 - accuracy: 0.9557\n",
            "Epoch 2/15\n",
            "1875/1875 [==============================] - 4s 2ms/step - loss: 0.1169 - accuracy: 0.9683\n",
            "Epoch 3/15\n",
            "1875/1875 [==============================] - 4s 2ms/step - loss: 0.0946 - accuracy: 0.9739\n",
            "Epoch 4/15\n",
            "1875/1875 [==============================] - 4s 2ms/step - loss: 0.0782 - accuracy: 0.9781\n",
            "Epoch 5/15\n",
            "1875/1875 [==============================] - 4s 2ms/step - loss: 0.0666 - accuracy: 0.9818\n",
            "Epoch 6/15\n",
            "1875/1875 [==============================] - 4s 2ms/step - loss: 0.0603 - accuracy: 0.9823\n",
            "Epoch 7/15\n",
            "1875/1875 [==============================] - 4s 2ms/step - loss: 0.0503 - accuracy: 0.9848\n",
            "Epoch 8/15\n",
            "1875/1875 [==============================] - 4s 2ms/step - loss: 0.0475 - accuracy: 0.9865\n",
            "Epoch 9/15\n",
            "1875/1875 [==============================] - 4s 2ms/step - loss: 0.0430 - accuracy: 0.9880\n",
            "Epoch 10/15\n",
            "1875/1875 [==============================] - 4s 2ms/step - loss: 0.0389 - accuracy: 0.9886\n",
            "Epoch 11/15\n",
            "1875/1875 [==============================] - 4s 2ms/step - loss: 0.0354 - accuracy: 0.9896\n",
            "Epoch 12/15\n",
            "1875/1875 [==============================] - 4s 2ms/step - loss: 0.0302 - accuracy: 0.9913\n",
            "Epoch 13/15\n",
            "1875/1875 [==============================] - 4s 2ms/step - loss: 0.0289 - accuracy: 0.9916\n",
            "Epoch 14/15\n",
            "1875/1875 [==============================] - 4s 2ms/step - loss: 0.0274 - accuracy: 0.9919\n",
            "Epoch 15/15\n",
            "1875/1875 [==============================] - 4s 2ms/step - loss: 0.0256 - accuracy: 0.9927\n"
          ],
          "name": "stdout"
        },
        {
          "output_type": "execute_result",
          "data": {
            "text/plain": [
              "<keras.callbacks.History at 0x7fc7b94cd610>"
            ]
          },
          "metadata": {
            "tags": []
          },
          "execution_count": 99
        }
      ]
    },
    {
      "cell_type": "code",
      "metadata": {
        "colab": {
          "base_uri": "https://localhost:8080/"
        },
        "id": "DD5co13uRBlV",
        "outputId": "c535cd7a-f541-45e0-9c8f-1219d72e6cfd"
      },
      "source": [
        "#학습한 것을 가지고 실제 테스트를 하여 평가해보자\n",
        "score = model.evaluate(x_test3,y_test2)\n",
        "score"
      ],
      "execution_count": 100,
      "outputs": [
        {
          "output_type": "stream",
          "text": [
            "313/313 [==============================] - 1s 1ms/step - loss: 0.1152 - accuracy: 0.9750\n"
          ],
          "name": "stdout"
        },
        {
          "output_type": "execute_result",
          "data": {
            "text/plain": [
              "[0.11522673070430756, 0.9750000238418579]"
            ]
          },
          "metadata": {
            "tags": []
          },
          "execution_count": 100
        }
      ]
    },
    {
      "cell_type": "code",
      "metadata": {
        "colab": {
          "base_uri": "https://localhost:8080/"
        },
        "id": "qYkzHQo8Q6iM",
        "outputId": "a088095f-8638-4379-cd64-ec444dabe909"
      },
      "source": [
        ""
      ],
      "execution_count": 101,
      "outputs": [
        {
          "output_type": "execute_result",
          "data": {
            "text/plain": [
              "(10000, 784)"
            ]
          },
          "metadata": {
            "tags": []
          },
          "execution_count": 101
        }
      ]
    },
    {
      "cell_type": "markdown",
      "metadata": {
        "id": "_35O9trLXbYb"
      },
      "source": [
        "##**붓꽃의 종류를 확인해 봅시다.**"
      ]
    },
    {
      "cell_type": "code",
      "metadata": {
        "id": "Zyh-o_XCSK2F"
      },
      "source": [
        "import pandas as pd\n",
        "from sklearn import svm\n",
        "from sklearn.linear_model import LinearRegression"
      ],
      "execution_count": 103,
      "outputs": []
    },
    {
      "cell_type": "code",
      "metadata": {
        "id": "9qgRl8LdX4gc"
      },
      "source": [
        "#선형 회귀\n",
        "lr = LinearRegression()\n",
        "\n",
        "#분류 모델\n",
        "clf = svm.SVC()"
      ],
      "execution_count": 129,
      "outputs": []
    },
    {
      "cell_type": "code",
      "metadata": {
        "colab": {
          "base_uri": "https://localhost:8080/",
          "height": 417
        },
        "id": "jfBbM4L8YMho",
        "outputId": "2f24729e-9718-4624-a0dc-3b11e384f2b8"
      },
      "source": [
        "#데이터 로딩\n",
        "csv = pd.read_csv('/content/drive/MyDrive/Study_DeapFake/Data/iris.csv')\n",
        "csv"
      ],
      "execution_count": 105,
      "outputs": [
        {
          "output_type": "execute_result",
          "data": {
            "text/html": [
              "<div>\n",
              "<style scoped>\n",
              "    .dataframe tbody tr th:only-of-type {\n",
              "        vertical-align: middle;\n",
              "    }\n",
              "\n",
              "    .dataframe tbody tr th {\n",
              "        vertical-align: top;\n",
              "    }\n",
              "\n",
              "    .dataframe thead th {\n",
              "        text-align: right;\n",
              "    }\n",
              "</style>\n",
              "<table border=\"1\" class=\"dataframe\">\n",
              "  <thead>\n",
              "    <tr style=\"text-align: right;\">\n",
              "      <th></th>\n",
              "      <th>sepal.length</th>\n",
              "      <th>sepal.width</th>\n",
              "      <th>petal.length</th>\n",
              "      <th>petal.width</th>\n",
              "      <th>variety</th>\n",
              "    </tr>\n",
              "  </thead>\n",
              "  <tbody>\n",
              "    <tr>\n",
              "      <th>0</th>\n",
              "      <td>5.1</td>\n",
              "      <td>3.5</td>\n",
              "      <td>1.4</td>\n",
              "      <td>0.2</td>\n",
              "      <td>Setosa</td>\n",
              "    </tr>\n",
              "    <tr>\n",
              "      <th>1</th>\n",
              "      <td>4.9</td>\n",
              "      <td>3.0</td>\n",
              "      <td>1.4</td>\n",
              "      <td>0.2</td>\n",
              "      <td>Setosa</td>\n",
              "    </tr>\n",
              "    <tr>\n",
              "      <th>2</th>\n",
              "      <td>4.7</td>\n",
              "      <td>3.2</td>\n",
              "      <td>1.3</td>\n",
              "      <td>0.2</td>\n",
              "      <td>Setosa</td>\n",
              "    </tr>\n",
              "    <tr>\n",
              "      <th>3</th>\n",
              "      <td>4.6</td>\n",
              "      <td>3.1</td>\n",
              "      <td>1.5</td>\n",
              "      <td>0.2</td>\n",
              "      <td>Setosa</td>\n",
              "    </tr>\n",
              "    <tr>\n",
              "      <th>4</th>\n",
              "      <td>5.0</td>\n",
              "      <td>3.6</td>\n",
              "      <td>1.4</td>\n",
              "      <td>0.2</td>\n",
              "      <td>Setosa</td>\n",
              "    </tr>\n",
              "    <tr>\n",
              "      <th>...</th>\n",
              "      <td>...</td>\n",
              "      <td>...</td>\n",
              "      <td>...</td>\n",
              "      <td>...</td>\n",
              "      <td>...</td>\n",
              "    </tr>\n",
              "    <tr>\n",
              "      <th>145</th>\n",
              "      <td>6.7</td>\n",
              "      <td>3.0</td>\n",
              "      <td>5.2</td>\n",
              "      <td>2.3</td>\n",
              "      <td>Virginica</td>\n",
              "    </tr>\n",
              "    <tr>\n",
              "      <th>146</th>\n",
              "      <td>6.3</td>\n",
              "      <td>2.5</td>\n",
              "      <td>5.0</td>\n",
              "      <td>1.9</td>\n",
              "      <td>Virginica</td>\n",
              "    </tr>\n",
              "    <tr>\n",
              "      <th>147</th>\n",
              "      <td>6.5</td>\n",
              "      <td>3.0</td>\n",
              "      <td>5.2</td>\n",
              "      <td>2.0</td>\n",
              "      <td>Virginica</td>\n",
              "    </tr>\n",
              "    <tr>\n",
              "      <th>148</th>\n",
              "      <td>6.2</td>\n",
              "      <td>3.4</td>\n",
              "      <td>5.4</td>\n",
              "      <td>2.3</td>\n",
              "      <td>Virginica</td>\n",
              "    </tr>\n",
              "    <tr>\n",
              "      <th>149</th>\n",
              "      <td>5.9</td>\n",
              "      <td>3.0</td>\n",
              "      <td>5.1</td>\n",
              "      <td>1.8</td>\n",
              "      <td>Virginica</td>\n",
              "    </tr>\n",
              "  </tbody>\n",
              "</table>\n",
              "<p>150 rows × 5 columns</p>\n",
              "</div>"
            ],
            "text/plain": [
              "     sepal.length  sepal.width  petal.length  petal.width    variety\n",
              "0             5.1          3.5           1.4          0.2     Setosa\n",
              "1             4.9          3.0           1.4          0.2     Setosa\n",
              "2             4.7          3.2           1.3          0.2     Setosa\n",
              "3             4.6          3.1           1.5          0.2     Setosa\n",
              "4             5.0          3.6           1.4          0.2     Setosa\n",
              "..            ...          ...           ...          ...        ...\n",
              "145           6.7          3.0           5.2          2.3  Virginica\n",
              "146           6.3          2.5           5.0          1.9  Virginica\n",
              "147           6.5          3.0           5.2          2.0  Virginica\n",
              "148           6.2          3.4           5.4          2.3  Virginica\n",
              "149           5.9          3.0           5.1          1.8  Virginica\n",
              "\n",
              "[150 rows x 5 columns]"
            ]
          },
          "metadata": {
            "tags": []
          },
          "execution_count": 105
        }
      ]
    },
    {
      "cell_type": "code",
      "metadata": {
        "colab": {
          "base_uri": "https://localhost:8080/",
          "height": 417
        },
        "id": "j7yfcp4UYrjp",
        "outputId": "23f7b51e-7ea4-4fb3-ee65-7905e2fbe4c3"
      },
      "source": [
        "#독립변수 추출\n",
        "data = csv[['sepal.length','sepal.width','petal.length','petal.width']]\n",
        "data"
      ],
      "execution_count": 107,
      "outputs": [
        {
          "output_type": "execute_result",
          "data": {
            "text/html": [
              "<div>\n",
              "<style scoped>\n",
              "    .dataframe tbody tr th:only-of-type {\n",
              "        vertical-align: middle;\n",
              "    }\n",
              "\n",
              "    .dataframe tbody tr th {\n",
              "        vertical-align: top;\n",
              "    }\n",
              "\n",
              "    .dataframe thead th {\n",
              "        text-align: right;\n",
              "    }\n",
              "</style>\n",
              "<table border=\"1\" class=\"dataframe\">\n",
              "  <thead>\n",
              "    <tr style=\"text-align: right;\">\n",
              "      <th></th>\n",
              "      <th>sepal.length</th>\n",
              "      <th>sepal.width</th>\n",
              "      <th>petal.length</th>\n",
              "      <th>petal.width</th>\n",
              "    </tr>\n",
              "  </thead>\n",
              "  <tbody>\n",
              "    <tr>\n",
              "      <th>0</th>\n",
              "      <td>5.1</td>\n",
              "      <td>3.5</td>\n",
              "      <td>1.4</td>\n",
              "      <td>0.2</td>\n",
              "    </tr>\n",
              "    <tr>\n",
              "      <th>1</th>\n",
              "      <td>4.9</td>\n",
              "      <td>3.0</td>\n",
              "      <td>1.4</td>\n",
              "      <td>0.2</td>\n",
              "    </tr>\n",
              "    <tr>\n",
              "      <th>2</th>\n",
              "      <td>4.7</td>\n",
              "      <td>3.2</td>\n",
              "      <td>1.3</td>\n",
              "      <td>0.2</td>\n",
              "    </tr>\n",
              "    <tr>\n",
              "      <th>3</th>\n",
              "      <td>4.6</td>\n",
              "      <td>3.1</td>\n",
              "      <td>1.5</td>\n",
              "      <td>0.2</td>\n",
              "    </tr>\n",
              "    <tr>\n",
              "      <th>4</th>\n",
              "      <td>5.0</td>\n",
              "      <td>3.6</td>\n",
              "      <td>1.4</td>\n",
              "      <td>0.2</td>\n",
              "    </tr>\n",
              "    <tr>\n",
              "      <th>...</th>\n",
              "      <td>...</td>\n",
              "      <td>...</td>\n",
              "      <td>...</td>\n",
              "      <td>...</td>\n",
              "    </tr>\n",
              "    <tr>\n",
              "      <th>145</th>\n",
              "      <td>6.7</td>\n",
              "      <td>3.0</td>\n",
              "      <td>5.2</td>\n",
              "      <td>2.3</td>\n",
              "    </tr>\n",
              "    <tr>\n",
              "      <th>146</th>\n",
              "      <td>6.3</td>\n",
              "      <td>2.5</td>\n",
              "      <td>5.0</td>\n",
              "      <td>1.9</td>\n",
              "    </tr>\n",
              "    <tr>\n",
              "      <th>147</th>\n",
              "      <td>6.5</td>\n",
              "      <td>3.0</td>\n",
              "      <td>5.2</td>\n",
              "      <td>2.0</td>\n",
              "    </tr>\n",
              "    <tr>\n",
              "      <th>148</th>\n",
              "      <td>6.2</td>\n",
              "      <td>3.4</td>\n",
              "      <td>5.4</td>\n",
              "      <td>2.3</td>\n",
              "    </tr>\n",
              "    <tr>\n",
              "      <th>149</th>\n",
              "      <td>5.9</td>\n",
              "      <td>3.0</td>\n",
              "      <td>5.1</td>\n",
              "      <td>1.8</td>\n",
              "    </tr>\n",
              "  </tbody>\n",
              "</table>\n",
              "<p>150 rows × 4 columns</p>\n",
              "</div>"
            ],
            "text/plain": [
              "     sepal.length  sepal.width  petal.length  petal.width\n",
              "0             5.1          3.5           1.4          0.2\n",
              "1             4.9          3.0           1.4          0.2\n",
              "2             4.7          3.2           1.3          0.2\n",
              "3             4.6          3.1           1.5          0.2\n",
              "4             5.0          3.6           1.4          0.2\n",
              "..            ...          ...           ...          ...\n",
              "145           6.7          3.0           5.2          2.3\n",
              "146           6.3          2.5           5.0          1.9\n",
              "147           6.5          3.0           5.2          2.0\n",
              "148           6.2          3.4           5.4          2.3\n",
              "149           5.9          3.0           5.1          1.8\n",
              "\n",
              "[150 rows x 4 columns]"
            ]
          },
          "metadata": {
            "tags": []
          },
          "execution_count": 107
        }
      ]
    },
    {
      "cell_type": "code",
      "metadata": {
        "colab": {
          "base_uri": "https://localhost:8080/"
        },
        "id": "9HqzgsqaZGCN",
        "outputId": "4ad120e6-688d-40ff-ad8e-55fbc21a7114"
      },
      "source": [
        "#종속 변수 추출\n",
        "label = csv['variety']\n",
        "label"
      ],
      "execution_count": 108,
      "outputs": [
        {
          "output_type": "execute_result",
          "data": {
            "text/plain": [
              "0         Setosa\n",
              "1         Setosa\n",
              "2         Setosa\n",
              "3         Setosa\n",
              "4         Setosa\n",
              "         ...    \n",
              "145    Virginica\n",
              "146    Virginica\n",
              "147    Virginica\n",
              "148    Virginica\n",
              "149    Virginica\n",
              "Name: variety, Length: 150, dtype: object"
            ]
          },
          "metadata": {
            "tags": []
          },
          "execution_count": 108
        }
      ]
    },
    {
      "cell_type": "code",
      "metadata": {
        "colab": {
          "base_uri": "https://localhost:8080/"
        },
        "id": "R49onJj6ZUTw",
        "outputId": "c248fc18-173f-4ef2-a294-fe1f7ca51281"
      },
      "source": [
        "#분류 학습\n",
        "clf.fit(data,label)\n"
      ],
      "execution_count": 109,
      "outputs": [
        {
          "output_type": "execute_result",
          "data": {
            "text/plain": [
              "SVC(C=1.0, break_ties=False, cache_size=200, class_weight=None, coef0=0.0,\n",
              "    decision_function_shape='ovr', degree=3, gamma='scale', kernel='rbf',\n",
              "    max_iter=-1, probability=False, random_state=None, shrinking=True,\n",
              "    tol=0.001, verbose=False)"
            ]
          },
          "metadata": {
            "tags": []
          },
          "execution_count": 109
        }
      ]
    },
    {
      "cell_type": "code",
      "metadata": {
        "colab": {
          "base_uri": "https://localhost:8080/"
        },
        "id": "N0ylZ9grZgKX",
        "outputId": "93a8ca81-a724-470b-fa67-8929ecdb2db3"
      },
      "source": [
        "#결과 예측\n",
        "example = [[5.5, 3.1, 5.2, 1.9],[5.2, 3.6, 1.3, 0.23]]\n",
        "result = clf.predict(example)\n",
        "result"
      ],
      "execution_count": 113,
      "outputs": [
        {
          "output_type": "execute_result",
          "data": {
            "text/plain": [
              "array(['Virginica', 'Setosa'], dtype=object)"
            ]
          },
          "metadata": {
            "tags": []
          },
          "execution_count": 113
        }
      ]
    },
    {
      "cell_type": "code",
      "metadata": {
        "colab": {
          "base_uri": "https://localhost:8080/",
          "height": 417
        },
        "id": "r0Kl6KnfdjL3",
        "outputId": "53694c06-9635-4984-ac4e-cb39f45a4bbc"
      },
      "source": [
        "#선형회귀 학습\n",
        "#lr.fit(data,label) - 선형 회귀 모델로 학습하기 위해서는 종속 변수값이 상수로 표현\n",
        "#데이터 로딩\n",
        "csv2 = pd.read_csv('/content/drive/MyDrive/Study_DeapFake/Data/iris2.csv')\n",
        "csv2"
      ],
      "execution_count": 117,
      "outputs": [
        {
          "output_type": "execute_result",
          "data": {
            "text/html": [
              "<div>\n",
              "<style scoped>\n",
              "    .dataframe tbody tr th:only-of-type {\n",
              "        vertical-align: middle;\n",
              "    }\n",
              "\n",
              "    .dataframe tbody tr th {\n",
              "        vertical-align: top;\n",
              "    }\n",
              "\n",
              "    .dataframe thead th {\n",
              "        text-align: right;\n",
              "    }\n",
              "</style>\n",
              "<table border=\"1\" class=\"dataframe\">\n",
              "  <thead>\n",
              "    <tr style=\"text-align: right;\">\n",
              "      <th></th>\n",
              "      <th>sepal.length</th>\n",
              "      <th>sepal.width</th>\n",
              "      <th>petal.length</th>\n",
              "      <th>petal.width</th>\n",
              "      <th>variety</th>\n",
              "    </tr>\n",
              "  </thead>\n",
              "  <tbody>\n",
              "    <tr>\n",
              "      <th>0</th>\n",
              "      <td>5.1</td>\n",
              "      <td>3.5</td>\n",
              "      <td>1.4</td>\n",
              "      <td>0.2</td>\n",
              "      <td>0</td>\n",
              "    </tr>\n",
              "    <tr>\n",
              "      <th>1</th>\n",
              "      <td>4.9</td>\n",
              "      <td>3.0</td>\n",
              "      <td>1.4</td>\n",
              "      <td>0.2</td>\n",
              "      <td>0</td>\n",
              "    </tr>\n",
              "    <tr>\n",
              "      <th>2</th>\n",
              "      <td>4.7</td>\n",
              "      <td>3.2</td>\n",
              "      <td>1.3</td>\n",
              "      <td>0.2</td>\n",
              "      <td>0</td>\n",
              "    </tr>\n",
              "    <tr>\n",
              "      <th>3</th>\n",
              "      <td>4.6</td>\n",
              "      <td>3.1</td>\n",
              "      <td>1.5</td>\n",
              "      <td>0.2</td>\n",
              "      <td>0</td>\n",
              "    </tr>\n",
              "    <tr>\n",
              "      <th>4</th>\n",
              "      <td>5.0</td>\n",
              "      <td>3.6</td>\n",
              "      <td>1.4</td>\n",
              "      <td>0.2</td>\n",
              "      <td>0</td>\n",
              "    </tr>\n",
              "    <tr>\n",
              "      <th>...</th>\n",
              "      <td>...</td>\n",
              "      <td>...</td>\n",
              "      <td>...</td>\n",
              "      <td>...</td>\n",
              "      <td>...</td>\n",
              "    </tr>\n",
              "    <tr>\n",
              "      <th>145</th>\n",
              "      <td>6.7</td>\n",
              "      <td>3.0</td>\n",
              "      <td>5.2</td>\n",
              "      <td>2.3</td>\n",
              "      <td>2</td>\n",
              "    </tr>\n",
              "    <tr>\n",
              "      <th>146</th>\n",
              "      <td>6.3</td>\n",
              "      <td>2.5</td>\n",
              "      <td>5.0</td>\n",
              "      <td>1.9</td>\n",
              "      <td>2</td>\n",
              "    </tr>\n",
              "    <tr>\n",
              "      <th>147</th>\n",
              "      <td>6.5</td>\n",
              "      <td>3.0</td>\n",
              "      <td>5.2</td>\n",
              "      <td>2.0</td>\n",
              "      <td>2</td>\n",
              "    </tr>\n",
              "    <tr>\n",
              "      <th>148</th>\n",
              "      <td>6.2</td>\n",
              "      <td>3.4</td>\n",
              "      <td>5.4</td>\n",
              "      <td>2.3</td>\n",
              "      <td>2</td>\n",
              "    </tr>\n",
              "    <tr>\n",
              "      <th>149</th>\n",
              "      <td>5.9</td>\n",
              "      <td>3.0</td>\n",
              "      <td>5.1</td>\n",
              "      <td>1.8</td>\n",
              "      <td>2</td>\n",
              "    </tr>\n",
              "  </tbody>\n",
              "</table>\n",
              "<p>150 rows × 5 columns</p>\n",
              "</div>"
            ],
            "text/plain": [
              "     sepal.length  sepal.width  petal.length  petal.width  variety\n",
              "0             5.1          3.5           1.4          0.2        0\n",
              "1             4.9          3.0           1.4          0.2        0\n",
              "2             4.7          3.2           1.3          0.2        0\n",
              "3             4.6          3.1           1.5          0.2        0\n",
              "4             5.0          3.6           1.4          0.2        0\n",
              "..            ...          ...           ...          ...      ...\n",
              "145           6.7          3.0           5.2          2.3        2\n",
              "146           6.3          2.5           5.0          1.9        2\n",
              "147           6.5          3.0           5.2          2.0        2\n",
              "148           6.2          3.4           5.4          2.3        2\n",
              "149           5.9          3.0           5.1          1.8        2\n",
              "\n",
              "[150 rows x 5 columns]"
            ]
          },
          "metadata": {
            "tags": []
          },
          "execution_count": 117
        }
      ]
    },
    {
      "cell_type": "code",
      "metadata": {
        "colab": {
          "base_uri": "https://localhost:8080/",
          "height": 417
        },
        "id": "MM-QaBZOeTnx",
        "outputId": "fc9bdc33-6bec-4261-ffdb-bd5da49e6595"
      },
      "source": [
        "#독립변수 추출\n",
        "data2 = csv[['sepal.length','sepal.width','petal.length','petal.width']]\n",
        "data2"
      ],
      "execution_count": 118,
      "outputs": [
        {
          "output_type": "execute_result",
          "data": {
            "text/html": [
              "<div>\n",
              "<style scoped>\n",
              "    .dataframe tbody tr th:only-of-type {\n",
              "        vertical-align: middle;\n",
              "    }\n",
              "\n",
              "    .dataframe tbody tr th {\n",
              "        vertical-align: top;\n",
              "    }\n",
              "\n",
              "    .dataframe thead th {\n",
              "        text-align: right;\n",
              "    }\n",
              "</style>\n",
              "<table border=\"1\" class=\"dataframe\">\n",
              "  <thead>\n",
              "    <tr style=\"text-align: right;\">\n",
              "      <th></th>\n",
              "      <th>sepal.length</th>\n",
              "      <th>sepal.width</th>\n",
              "      <th>petal.length</th>\n",
              "      <th>petal.width</th>\n",
              "    </tr>\n",
              "  </thead>\n",
              "  <tbody>\n",
              "    <tr>\n",
              "      <th>0</th>\n",
              "      <td>5.1</td>\n",
              "      <td>3.5</td>\n",
              "      <td>1.4</td>\n",
              "      <td>0.2</td>\n",
              "    </tr>\n",
              "    <tr>\n",
              "      <th>1</th>\n",
              "      <td>4.9</td>\n",
              "      <td>3.0</td>\n",
              "      <td>1.4</td>\n",
              "      <td>0.2</td>\n",
              "    </tr>\n",
              "    <tr>\n",
              "      <th>2</th>\n",
              "      <td>4.7</td>\n",
              "      <td>3.2</td>\n",
              "      <td>1.3</td>\n",
              "      <td>0.2</td>\n",
              "    </tr>\n",
              "    <tr>\n",
              "      <th>3</th>\n",
              "      <td>4.6</td>\n",
              "      <td>3.1</td>\n",
              "      <td>1.5</td>\n",
              "      <td>0.2</td>\n",
              "    </tr>\n",
              "    <tr>\n",
              "      <th>4</th>\n",
              "      <td>5.0</td>\n",
              "      <td>3.6</td>\n",
              "      <td>1.4</td>\n",
              "      <td>0.2</td>\n",
              "    </tr>\n",
              "    <tr>\n",
              "      <th>...</th>\n",
              "      <td>...</td>\n",
              "      <td>...</td>\n",
              "      <td>...</td>\n",
              "      <td>...</td>\n",
              "    </tr>\n",
              "    <tr>\n",
              "      <th>145</th>\n",
              "      <td>6.7</td>\n",
              "      <td>3.0</td>\n",
              "      <td>5.2</td>\n",
              "      <td>2.3</td>\n",
              "    </tr>\n",
              "    <tr>\n",
              "      <th>146</th>\n",
              "      <td>6.3</td>\n",
              "      <td>2.5</td>\n",
              "      <td>5.0</td>\n",
              "      <td>1.9</td>\n",
              "    </tr>\n",
              "    <tr>\n",
              "      <th>147</th>\n",
              "      <td>6.5</td>\n",
              "      <td>3.0</td>\n",
              "      <td>5.2</td>\n",
              "      <td>2.0</td>\n",
              "    </tr>\n",
              "    <tr>\n",
              "      <th>148</th>\n",
              "      <td>6.2</td>\n",
              "      <td>3.4</td>\n",
              "      <td>5.4</td>\n",
              "      <td>2.3</td>\n",
              "    </tr>\n",
              "    <tr>\n",
              "      <th>149</th>\n",
              "      <td>5.9</td>\n",
              "      <td>3.0</td>\n",
              "      <td>5.1</td>\n",
              "      <td>1.8</td>\n",
              "    </tr>\n",
              "  </tbody>\n",
              "</table>\n",
              "<p>150 rows × 4 columns</p>\n",
              "</div>"
            ],
            "text/plain": [
              "     sepal.length  sepal.width  petal.length  petal.width\n",
              "0             5.1          3.5           1.4          0.2\n",
              "1             4.9          3.0           1.4          0.2\n",
              "2             4.7          3.2           1.3          0.2\n",
              "3             4.6          3.1           1.5          0.2\n",
              "4             5.0          3.6           1.4          0.2\n",
              "..            ...          ...           ...          ...\n",
              "145           6.7          3.0           5.2          2.3\n",
              "146           6.3          2.5           5.0          1.9\n",
              "147           6.5          3.0           5.2          2.0\n",
              "148           6.2          3.4           5.4          2.3\n",
              "149           5.9          3.0           5.1          1.8\n",
              "\n",
              "[150 rows x 4 columns]"
            ]
          },
          "metadata": {
            "tags": []
          },
          "execution_count": 118
        }
      ]
    },
    {
      "cell_type": "code",
      "metadata": {
        "colab": {
          "base_uri": "https://localhost:8080/"
        },
        "id": "yAsP0ysfeJ1z",
        "outputId": "32cc7984-4b84-490e-e27c-d7b1e5175dca"
      },
      "source": [
        "#종속 변수 추출\n",
        "label2 = csv2['variety']\n",
        "label2"
      ],
      "execution_count": 120,
      "outputs": [
        {
          "output_type": "execute_result",
          "data": {
            "text/plain": [
              "0      0\n",
              "1      0\n",
              "2      0\n",
              "3      0\n",
              "4      0\n",
              "      ..\n",
              "145    2\n",
              "146    2\n",
              "147    2\n",
              "148    2\n",
              "149    2\n",
              "Name: variety, Length: 150, dtype: int64"
            ]
          },
          "metadata": {
            "tags": []
          },
          "execution_count": 120
        }
      ]
    },
    {
      "cell_type": "code",
      "metadata": {
        "colab": {
          "base_uri": "https://localhost:8080/"
        },
        "id": "M0xleCEver6r",
        "outputId": "9ab4e4c0-f803-4b15-b5f3-9fe15c624424"
      },
      "source": [
        "#학습\n",
        "lr.fit(data2,label2)"
      ],
      "execution_count": 130,
      "outputs": [
        {
          "output_type": "execute_result",
          "data": {
            "text/plain": [
              "LinearRegression(copy_X=True, fit_intercept=True, n_jobs=None, normalize=False)"
            ]
          },
          "metadata": {
            "tags": []
          },
          "execution_count": 130
        }
      ]
    },
    {
      "cell_type": "code",
      "metadata": {
        "colab": {
          "base_uri": "https://localhost:8080/"
        },
        "id": "nhdzyi6Xe5K9",
        "outputId": "00489292-652b-491e-dd9c-6a2e8b73a013"
      },
      "source": [
        "#결과 예측\n",
        "example2 = [[5.5, 3.1, 5.2, 1.9],[5.2, 3.6, 1.3, 0.23]]\n",
        "result2 = lr.predict(example2)\n",
        "result2"
      ],
      "execution_count": 126,
      "outputs": [
        {
          "output_type": "execute_result",
          "data": {
            "text/plain": [
              "array([ 1.79329969, -0.10233484])"
            ]
          },
          "metadata": {
            "tags": []
          },
          "execution_count": 126
        }
      ]
    },
    {
      "cell_type": "markdown",
      "metadata": {
        "id": "DDJw0Xp4lG8k"
      },
      "source": [
        "##**독버섯인지 판별**"
      ]
    },
    {
      "cell_type": "code",
      "metadata": {
        "id": "CxCP6CmElGGY"
      },
      "source": [
        "import pandas as pd\n",
        "import random\n",
        "from sklearn import svm, metrics\n",
        "from sklearn.linear_model import LinearRegression"
      ],
      "execution_count": 162,
      "outputs": []
    },
    {
      "cell_type": "code",
      "metadata": {
        "id": "gn7Cd-CRljp7"
      },
      "source": [
        "def read_data(fname):\n",
        "    mr =  pd.read_csv(fname,header=None) #CSV파일을 읽기\n",
        "    train_label = []#학습 종속변수\n",
        "    test_label=[] #테스트 종속변수\n",
        "\n",
        "    train_data = []#학습 독립변수\n",
        "    test_data=[] #테스트 독립변수\n",
        "\n",
        "    label = [] #종속 변수를 보관\n",
        "    data = [] #독립 변수 보관\n",
        "    for ri, row in mr.iterrows(): #로딩한 데이터를 한줄씩 해석\n",
        "        r= random.randint(1,5) #1이나오면 테스트 데이터, 그외 학습데이터\n",
        "        if r==1:\n",
        "            test_label.append(ord(row.loc[0]))\n",
        "        else:\n",
        "            train_label.append(ord(row.loc[0]))\n",
        "\n",
        "        ot=[]\n",
        "        for v in row.loc[1:]: #인덱스 1에서 맨 마지막 요소까지\n",
        "            ot.append(ord(v)) #데이터 v를 정수 형식으로 변환하여 ot컬렉션에 추가\n",
        "        if r==1:\n",
        "            test_data.append(ot)\n",
        "        else:\n",
        "            train_data.append(ot)\n",
        "    return train_data, train_label, test_data, test_label"
      ],
      "execution_count": 163,
      "outputs": []
    },
    {
      "cell_type": "code",
      "metadata": {
        "id": "5Ohg-nKbltWS"
      },
      "source": [
        "tr_d, tr_l, te_d, te_l = read_data(\"/content/drive/MyDrive/Study_DeapFake/Data/mushrooms.csv\")"
      ],
      "execution_count": 164,
      "outputs": []
    },
    {
      "cell_type": "code",
      "metadata": {
        "colab": {
          "base_uri": "https://localhost:8080/"
        },
        "id": "iCeztomlsrtx",
        "outputId": "2d41eadb-811a-4868-a82f-6d8631703ef3"
      },
      "source": [
        "tr_darr = np.array(tr_d[0])\n",
        "tr_darr"
      ],
      "execution_count": 165,
      "outputs": [
        {
          "output_type": "execute_result",
          "data": {
            "text/plain": [
              "array([ 98, 115, 119, 116, 108, 102,  99,  98, 110, 101,  99, 115, 115,\n",
              "       119, 119, 112, 119, 111, 112, 110, 110, 109])"
            ]
          },
          "metadata": {
            "tags": []
          },
          "execution_count": 165
        }
      ]
    },
    {
      "cell_type": "code",
      "metadata": {
        "colab": {
          "base_uri": "https://localhost:8080/"
        },
        "id": "JQjlhI-mmSmY",
        "outputId": "f8247981-9bf1-4f1a-e50d-c3181b15353d"
      },
      "source": [
        "len(tr_d), len(tr_l), len(te_d), len(te_l)"
      ],
      "execution_count": 166,
      "outputs": [
        {
          "output_type": "execute_result",
          "data": {
            "text/plain": [
              "(6529, 6529, 1595, 1595)"
            ]
          },
          "metadata": {
            "tags": []
          },
          "execution_count": 166
        }
      ]
    },
    {
      "cell_type": "code",
      "metadata": {
        "id": "jTsq3kRqoHKT"
      },
      "source": [
        "#모델 생성\n",
        "clf = svm.SVC()"
      ],
      "execution_count": 167,
      "outputs": []
    },
    {
      "cell_type": "code",
      "metadata": {
        "colab": {
          "base_uri": "https://localhost:8080/"
        },
        "id": "GN8es531tVnm",
        "outputId": "525f7c07-1972-4c08-965c-46c7def3635c"
      },
      "source": [
        "#학습\n",
        "clf.fit(tr_d,tr_l)"
      ],
      "execution_count": 168,
      "outputs": [
        {
          "output_type": "execute_result",
          "data": {
            "text/plain": [
              "SVC(C=1.0, break_ties=False, cache_size=200, class_weight=None, coef0=0.0,\n",
              "    decision_function_shape='ovr', degree=3, gamma='scale', kernel='rbf',\n",
              "    max_iter=-1, probability=False, random_state=None, shrinking=True,\n",
              "    tol=0.001, verbose=False)"
            ]
          },
          "metadata": {
            "tags": []
          },
          "execution_count": 168
        }
      ]
    },
    {
      "cell_type": "code",
      "metadata": {
        "id": "FU3Z-Xf1taU7"
      },
      "source": [
        "#예측\n",
        "result = clf.predict(te_d)"
      ],
      "execution_count": 169,
      "outputs": []
    },
    {
      "cell_type": "code",
      "metadata": {
        "colab": {
          "base_uri": "https://localhost:8080/"
        },
        "id": "gj8z8Nx0tgps",
        "outputId": "50eb3d08-00a1-4ba3-e7b6-9e546e8671d1"
      },
      "source": [
        "#비교\n",
        "rarr = np.array(result)\n",
        "tearr = np.array(te_l)\n",
        "rarr, tearr"
      ],
      "execution_count": 170,
      "outputs": [
        {
          "output_type": "execute_result",
          "data": {
            "text/plain": [
              "(array([112, 101, 112, ..., 101, 112, 112]),\n",
              " array([112, 101, 112, ..., 101, 112, 112]))"
            ]
          },
          "metadata": {
            "tags": []
          },
          "execution_count": 170
        }
      ]
    },
    {
      "cell_type": "code",
      "metadata": {
        "colab": {
          "base_uri": "https://localhost:8080/"
        },
        "id": "j1IBA7wUtyFf",
        "outputId": "edbd2600-0ee5-43bd-9f4b-877e324b6676"
      },
      "source": [
        "#정확도 계산\n",
        "score = metrics.accuracy_score(result,te_l)\n",
        "score"
      ],
      "execution_count": 171,
      "outputs": [
        {
          "output_type": "execute_result",
          "data": {
            "text/plain": [
              "0.9974921630094044"
            ]
          },
          "metadata": {
            "tags": []
          },
          "execution_count": 171
        }
      ]
    }
  ]
}